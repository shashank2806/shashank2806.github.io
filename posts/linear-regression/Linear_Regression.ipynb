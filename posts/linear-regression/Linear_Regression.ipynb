{
 "cells": [
  {
   "cell_type": "raw",
   "metadata": {},
   "source": [
    "---\n",
    "title: \"Linear Regression - A Deep Dive!\"\n",
    "author: \"Shashank Shekhar\"\n",
    "description: \"Theory along with Python code implementation on one of the most essestial algorithm of Machine Learning\"\n",
    "date: \"2022-11-27\"\n",
    "categories: [Machine Learning, Python]\n",
    "format: \n",
    "  html:\n",
    "    code-fold: false\n",
    "jupyter: python3\n",
    "---"
   ]
  },
  {
   "cell_type": "markdown",
   "metadata": {},
   "source": [
    "In this blog I am going to explain Regression, it's type, and how can we code a Linear Regression from scratch in Python. First we will look at the concepts and maths behing this algorithm and then we will implement it using `Python`, `NumPy` and `Pandas`.\n",
    "\n",
    "**By the end of this blog you will bw able to understand:**\n",
    "\n",
    "1. What is Regression and classification?\n",
    "2. Difference between Linear Regression and  Non-Linear Regression.\n",
    "3. Hyothesis(model) of Linear Regression\n",
    "4. Cost function\n",
    "5. Gradient Descent\n",
    "6. How to code all these equation and algorithm in Python?\n",
    "\n",
    "![](1.png)"
   ]
  },
  {
   "cell_type": "markdown",
   "metadata": {},
   "source": [
    "#### Regression vs Classification\n",
    "In Machine Learning, If the output variable has continous range, and we have to find the relationship between the the input and output variable(s). This is called *Regression*. Examples include - House Price, Salary, etc\n",
    "\n",
    "In contrast, if the the output has descrete range. It is then called *Classification*. Examples include - Cat vs Dog, Spam/Not Spam, etc\n",
    "\n",
    "These regresssion models can be used for both Inference and Prediction. \n",
    "\n",
    "In this blog we are focused to get Prediction using Regression."
   ]
  },
  {
   "cell_type": "markdown",
   "metadata": {},
   "source": [
    "#### Regression\n",
    "Regression in itself can be of multiple types - Linear and Non-Linear Regression.\n",
    "\n",
    "`Linear Regression` - When the model relates the input(independent) and output(dependent) varibale in straight line. *Simple Linear Regression* is subset of the prior, when there is only single input variable is present. \n",
    "\n",
    "`Non-Linear Regression` - When the model relates the input and output varibale in curved line.\n",
    "\n",
    "I am thowing a lot of jargons here so let me clarify few things before moving forward.\n",
    "\n",
    "- *Input Variable/Independent Variable/Feature*  are used interchangibly. In ML context these are the values which we are going to have to make the Prediction. For example :- For House Price Prediction we need Size. Size is the Input/Feature.\n",
    "\n",
    "- *Output Varibale/Dependent Varibale/Target* are those values which we are need to predict. *Price* is the target in case of the last example."
   ]
  },
  {
   "cell_type": "markdown",
   "metadata": {},
   "source": [
    "#### Linear Regression \n",
    "In this blog we are going to implement *Simple Linear Regression* on a small `dataset`. The information about the dataset is given below."
   ]
  },
  {
   "cell_type": "code",
   "execution_count": 1,
   "metadata": {},
   "outputs": [],
   "source": [
    "# Imports\n",
    "import numpy as np\n",
    "import pandas as pd\n",
    "import matplotlib.pyplot as plt"
   ]
  },
  {
   "cell_type": "markdown",
   "metadata": {},
   "source": [
    "We are using a small dataset from [here](https://college.cengage.com/mathematics/brase/understandable_statistics/7e/students/datasets/slr/frames/frame.html). This a data about Cricket Chirps Vs. Temperature. We will use linear regression to fit model."
   ]
  },
  {
   "cell_type": "code",
   "execution_count": 2,
   "metadata": {},
   "outputs": [
    {
     "name": "stdout",
     "output_type": "stream",
     "text": [
      "*** No CODEPAGE record, no encoding_override: will use 'iso-8859-1'\n"
     ]
    }
   ],
   "source": [
    "# loading data\n",
    "data = pd.read_excel('slr02.xls', engine='xlrd')"
   ]
  },
  {
   "cell_type": "markdown",
   "metadata": {},
   "source": [
    "Now we look into data we see there are two columns `X` and `Y`, were \\\n",
    "`X = chirps/sec for the striped ground cricket`\\\n",
    "`Y = temperature in degrees Fahrenheit`"
   ]
  },
  {
   "cell_type": "code",
   "execution_count": 3,
   "metadata": {},
   "outputs": [
    {
     "data": {
      "text/html": [
       "<div>\n",
       "<style scoped>\n",
       "    .dataframe tbody tr th:only-of-type {\n",
       "        vertical-align: middle;\n",
       "    }\n",
       "\n",
       "    .dataframe tbody tr th {\n",
       "        vertical-align: top;\n",
       "    }\n",
       "\n",
       "    .dataframe thead th {\n",
       "        text-align: right;\n",
       "    }\n",
       "</style>\n",
       "<table border=\"1\" class=\"dataframe\">\n",
       "  <thead>\n",
       "    <tr style=\"text-align: right;\">\n",
       "      <th></th>\n",
       "      <th>X</th>\n",
       "      <th>Y</th>\n",
       "    </tr>\n",
       "  </thead>\n",
       "  <tbody>\n",
       "    <tr>\n",
       "      <th>0</th>\n",
       "      <td>20.000000</td>\n",
       "      <td>88.599998</td>\n",
       "    </tr>\n",
       "    <tr>\n",
       "      <th>1</th>\n",
       "      <td>16.000000</td>\n",
       "      <td>71.599998</td>\n",
       "    </tr>\n",
       "    <tr>\n",
       "      <th>2</th>\n",
       "      <td>19.799999</td>\n",
       "      <td>93.300003</td>\n",
       "    </tr>\n",
       "    <tr>\n",
       "      <th>3</th>\n",
       "      <td>18.400000</td>\n",
       "      <td>84.300003</td>\n",
       "    </tr>\n",
       "    <tr>\n",
       "      <th>4</th>\n",
       "      <td>17.100000</td>\n",
       "      <td>80.599998</td>\n",
       "    </tr>\n",
       "  </tbody>\n",
       "</table>\n",
       "</div>"
      ],
      "text/plain": [
       "           X          Y\n",
       "0  20.000000  88.599998\n",
       "1  16.000000  71.599998\n",
       "2  19.799999  93.300003\n",
       "3  18.400000  84.300003\n",
       "4  17.100000  80.599998"
      ]
     },
     "execution_count": 3,
     "metadata": {},
     "output_type": "execute_result"
    }
   ],
   "source": [
    "# visualise data\n",
    "data.head()"
   ]
  },
  {
   "cell_type": "code",
   "execution_count": 4,
   "metadata": {},
   "outputs": [],
   "source": [
    "# data we got are in pandas dataframe format\n",
    "# we need to cast it in numpy array for calulations\n",
    "X = np.array(data.X)\n",
    "Y = np.array(data.Y)"
   ]
  },
  {
   "cell_type": "code",
   "execution_count": 5,
   "metadata": {},
   "outputs": [
    {
     "name": "stdout",
     "output_type": "stream",
     "text": [
      "[20.         16.         19.79999924 18.39999962 17.10000038 15.5\n",
      " 14.69999981 17.10000038 15.39999962 16.20000076 15.         17.20000076\n",
      " 16.         17.         14.39999962] [88.59999847 71.59999847 93.30000305 84.30000305 80.59999847 75.19999695\n",
      " 69.69999695 82.         69.40000153 83.30000305 79.59999847 82.59999847\n",
      " 80.59999847 83.5        76.30000305]\n",
      "Data points: 15\n"
     ]
    }
   ],
   "source": [
    "# Now we have two arrays. One containing input features and other array has output features\n",
    "# visualise casted data\n",
    "print(X,Y)\n",
    "print(\"Data points:\", len(X))"
   ]
  },
  {
   "cell_type": "code",
   "execution_count": 6,
   "metadata": {},
   "outputs": [],
   "source": [
    "# function for plotting data points\n",
    "def plot_points(X, Y, xlabel, ylabel):\n",
    "    \"\"\"Plot points given X and Y co-ordinates and labels them\"\"\"\n",
    "    plt.plot(X, Y, 'o')\n",
    "    plt.xlabel(xlabel)\n",
    "    plt.ylabel(ylabel)"
   ]
  },
  {
   "cell_type": "markdown",
   "metadata": {},
   "source": [
    "This is the scatter-plot visualization of the data we have used. On X-axis we have chirps/sec and on the Y-axis we have Temperature."
   ]
  },
  {
   "cell_type": "code",
   "execution_count": 7,
   "metadata": {},
   "outputs": [
    {
     "data": {
      "image/png": "[encoded data removed]",
      "text/plain": [
       "<Figure size 432x288 with 1 Axes>"
      ]
     },
     "metadata": {
      "needs_background": "light"
     },
     "output_type": "display_data"
    }
   ],
   "source": [
    "# plot data points\n",
    "plot_points(X, Y, \"chirps/sec for the striped ground cricket\", \"temperature in degrees Fahrenheit\")"
   ]
  },
  {
   "cell_type": "markdown",
   "metadata": {},
   "source": [
    "### Linear Regression hypothesis/model\n",
    "As mentioned earlier in the definition, *Linear Regression* is a way to find relationship between the input varibale (chirps/sec) and output varibale (temperature) with the help of a straight line.\n",
    "\n",
    "Our main objective is to fit a straight line though these data points. As we can see the input and output are linearly dependent (as input varibale value increases/decrease, output variable value also tend to increase/decrease).\n",
    "\n",
    "***Objective*** : *To find a best fit straight line through data points*\n",
    "\n",
    "Best fit implies that the distance between the points and line should be minimum.\n",
    "\n",
    "![](2.png)\n",
    "\n",
    "In the figure, $d_1,d_2,d_3,...., d_n$ represents the distance between the point and the line and our goal is to minimize the sum of these distances. \n",
    "\n",
    "**Hypothesis Function:** A stright line can be represented like $h_{\\theta}(x)={\\theta}_0 + {\\theta}_1x$. Where ${\\theta}_0$ is the intercept and ${\\theta}_1$ is the slope of the line. We have to find this ${\\theta}_0$ and ${\\theta}_1$ \\\n",
    "\n",
    "Before moving forward, These are some conventions we have taken for varibale names and mathematical equations.\n",
    "\n",
    "$m$ : number of training examples (m=15, in this case)\\\n",
    "$X$ : input / features\\\n",
    "$Y$ : output/ target\\\n",
    "$x^{(i)}, y^{(i)}$ : $i^{th}$ training data.\\\n",
    "${\\theta}_0$ ,${\\theta}_1$: Model Parameters / Weights"
   ]
  },
  {
   "cell_type": "code",
   "execution_count": 8,
   "metadata": {},
   "outputs": [],
   "source": [
    "# initialised random thetas\n",
    "np.random.seed(2)\n",
    "theta = np.random.rand(2,1)\n",
    "# hypothesis of model\n",
    "def hypothesis(X, theta):\n",
    "    \"\"\"Predicts output feature given input feature and theta\"\"\"\n",
    "    return theta[0] + theta[1] * X"
   ]
  },
  {
   "cell_type": "markdown",
   "metadata": {},
   "source": [
    "Let's plot the initial line to check how ot fits our data."
   ]
  },
  {
   "cell_type": "code",
   "execution_count": 9,
   "metadata": {},
   "outputs": [],
   "source": [
    "# plots line of regression\n",
    "def draw_line(theta, X):\n",
    "    \"\"\"Plot a line from slope and intercept\"\"\"\n",
    "    x_vals = X\n",
    "    y_vals = hypothesis(x_vals, theta)\n",
    "    plt.plot(x_vals, y_vals, '--')"
   ]
  },
  {
   "cell_type": "markdown",
   "metadata": {},
   "source": [
    "We want to plot data points and line of regession on same plot to see if we are progressing as we train our model"
   ]
  },
  {
   "cell_type": "code",
   "execution_count": 10,
   "metadata": {},
   "outputs": [],
   "source": [
    "# plots points and lines\n",
    "def draw_points_and_lines(X, Y, xlabel, ylabel, theta):\n",
    "    \"\"\"Draws lines and points\"\"\"\n",
    "    plot_points(X, Y, xlabel, ylabel)\n",
    "    draw_line(theta, X)"
   ]
  },
  {
   "cell_type": "markdown",
   "metadata": {},
   "source": [
    "Now without training our model let's were the line of  regression lies"
   ]
  },
  {
   "cell_type": "code",
   "execution_count": 11,
   "metadata": {},
   "outputs": [
    {
     "data": {
      "image/png": "[encoded data removed]",
      "text/plain": [
       "<Figure size 432x288 with 1 Axes>"
      ]
     },
     "metadata": {
      "needs_background": "light"
     },
     "output_type": "display_data"
    }
   ],
   "source": [
    "# draw line of regression without traing model\n",
    "draw_points_and_lines(X, Y, \"chirps/sec for the striped ground cricket\", \"temperature in degrees Fahrenheit\", theta)"
   ]
  },
  {
   "cell_type": "markdown",
   "metadata": {},
   "source": [
    "### Cost Function\n",
    "Cost function givies us measure of how much we are error the hypothesis is making? These *errors* are measured as mean of squared error( $d_1,d_2,d_3,...., d_n$) terms. \\\n",
    "\n",
    "We will be using squared error cost function which is formulated as, \\\n",
    "\n",
    "$d_{i} = h_{\\theta}(x^{(i)}) - y^{(i)}$(error) \\\n",
    "errors can be both postive and negetive in direction so, we sqaure this error term to make all the error terms positive(+ve).\\\n",
    "$(d_{i})^2 = (h_{\\theta}(x^{(i)}) - y^{(i)})^2$(squared error)\\\n",
    "We need to the line which minimizes the mean of these squared error terms.\n",
    "\n",
    "Cost function - (*Mean Sqaured Error*) $$J({{\\theta}_0, {\\theta}_1}) =  \\frac{1}{2m}\\sum_{i=0}^{i=n-1}(h_{\\theta}(x^{(i)}) - y^{(i)})^2$$\n",
    "\n",
    "\n",
    "*Note:- Mean Squared Error is divided by 2 beacuse it will later help when finding gradient of the function*\n",
    "\n",
    "We need to minimize this Cost function with respect to ${\\theta}_0, {\\theta}_1$. After optimization, it will give us the value of parameters(thetas) which in turn will give us the best fit line."
   ]
  },
  {
   "cell_type": "code",
   "execution_count": 12,
   "metadata": {},
   "outputs": [],
   "source": [
    "# cost function\n",
    "m = len(X)\n",
    "def cost(X, Y, theta):\n",
    "    \"\"\"Returns cost\"\"\"\n",
    "    return (1/(2*m)) * np.sum((hypothesis(X, theta) - Y) ** 2)"
   ]
  },
  {
   "cell_type": "code",
   "execution_count": 13,
   "metadata": {},
   "outputs": [
    {
     "data": {
      "text/plain": [
       "3154.8870744571304"
      ]
     },
     "execution_count": 13,
     "metadata": {},
     "output_type": "execute_result"
    }
   ],
   "source": [
    "# initial cost without trraining model\n",
    "cost(X, Y, theta)"
   ]
  },
  {
   "cell_type": "markdown",
   "metadata": {},
   "source": [
    "We have now defined a Cost function which tells us how wrong we are from actual label(target). The less the cost - the better. Right now with just random value of theta we have attained a very gigh cost. We need to minimize it. In this blog we are going to use a technique called *Gradient Descent* for minimization of the cost function."
   ]
  },
  {
   "cell_type": "markdown",
   "metadata": {},
   "source": [
    "### Gradient Descent / Model Training\n",
    "Gradient Descent is the optimization algorithm used to finding the value of paramerter which minimizes the value of *cost function*. In our case we are minimizing MSE Cost function with the help of this algorithm.\n",
    "\n",
    "This algorithm works by iteratively updating the values of the parameters(thetas) in the direction of the negative gradient of the cost function with respect to the parameters. This means that at each iteration, the parameters are updated in the direction that reduces the value of the cost function.\n",
    "\n",
    "![Representation of Gradient Descent in 2D Plane(for simlification of understaing). Here Cost is just function for single theta. Steps are taken in the direction opposite to the gradient/slope. Learning rate decides the step size. In this image the gradient is +ve, hence the steps taken will be in negative direction.](3.png)\n",
    "\n",
    "The *learning rate(denoted by alpha, $\\alpha$)* is the one of the hyperparameter(parameter, for which the value needs to decided manually). We need to set learning rate very carefully, It decides the step size in the negative direction of the gradient(slope).\\\n",
    "A higher learning rate can lead to faster convergence, but can also make the algorithm more likely to overshoot the minimum. A lower learning rate can be more stable, but can also lead to slower convergence.\n",
    "\n",
    "To make a analogy, We can think Gradient descent algorithm like - We are blindfolded and descesnding from a hill(cost function). We will take a step forward evaulate the slope(gradient) and then move according to that. When we will reach bottom of the hill, then the step in any direction will take us upward and thus we know that be have reaced bottom(convergence).\n",
    "\n",
    "![Gradeint Descent in 3D plane, extension of previous image in both parameter](4.png)"
   ]
  },
  {
   "cell_type": "markdown",
   "metadata": {},
   "source": [
    "![Mathematical equation for Gradient descent, parameters need to be updated by finding slope of the cost function w.r.t each parameter.](5.png)\n",
    "\n",
    "![Equation if Gradient Descent - After finding the gradient of cost function w.r.t $\\theta_0 and \\theta_1$](6.png)"
   ]
  },
  {
   "cell_type": "code",
   "execution_count": 14,
   "metadata": {},
   "outputs": [],
   "source": [
    "# minimize cost through gradient descent - Model training\n",
    "def gradient_descent(X, Y, theta, alpha, steps):\n",
    "    for i in range(steps):\n",
    "        old_cost = cost(X, Y, theta)\n",
    "        grad0 = ((1/m) * np.sum(hypothesis(X, theta) - Y))\n",
    "        grad1 = ((1/m) * np.dot((hypothesis(X, theta) - Y), X))\n",
    "        temp0 = theta[0] - alpha * grad0\n",
    "        temp1 = theta[1] - alpha * grad1\n",
    "        theta[0] = temp0\n",
    "        theta[1] = temp1\n",
    "        new_cost = cost(X, Y, theta)\n",
    "        if i%10 == 0:    #print every 10th epoch\n",
    "            if new_cost > old_cost:\n",
    "                print(\"WARNING!!! COST INCREASING\")\n",
    "            else:\n",
    "                print(\"Cost Decresing\", new_cost)"
   ]
  },
  {
   "cell_type": "code",
   "execution_count": 15,
   "metadata": {},
   "outputs": [
    {
     "name": "stdout",
     "output_type": "stream",
     "text": [
      "Cost Decresing 2980.5693134787443\n",
      "Cost Decresing 1689.4327589238676\n",
      "Cost Decresing 959.3382749612664\n",
      "Cost Decresing 546.4942831760693\n",
      "Cost Decresing 313.0448146583842\n",
      "Cost Decresing 181.03693810660252\n",
      "Cost Decresing 106.39088282551906\n",
      "Cost Decresing 64.18101546051345\n",
      "Cost Decresing 40.31272552858337\n",
      "Cost Decresing 26.815983067351162\n",
      "Cost Decresing 19.184003183555753\n",
      "Cost Decresing 14.868350028147061\n",
      "Cost Decresing 12.427968518501714\n",
      "Cost Decresing 11.047990290588316\n",
      "Cost Decresing 10.267634588205215\n",
      "Cost Decresing 9.826345333024406\n",
      "Cost Decresing 9.576786793160268\n",
      "Cost Decresing 9.435645548985352\n",
      "Cost Decresing 9.35581065326909\n",
      "Cost Decresing 9.310642443891272\n"
     ]
    },
    {
     "data": {
      "text/plain": [
       "array([[0.72065763],\n",
       "       [4.73296698]])"
      ]
     },
     "execution_count": 15,
     "metadata": {},
     "output_type": "execute_result"
    }
   ],
   "source": [
    "# train model of 150 iterations\n",
    "gradient_descent(X, Y, theta, alpha=0.0001, steps=200)\n",
    "theta"
   ]
  },
  {
   "cell_type": "markdown",
   "metadata": {},
   "source": [
    "After training we can clearly see we have reduced cost, and the cost has converged at a a fixed place, training it furteher will not lead lower cost, thus we can stop the furter interations. We have now found those parameters which gave us minimized cost."
   ]
  },
  {
   "cell_type": "code",
   "execution_count": 16,
   "metadata": {},
   "outputs": [
    {
     "data": {
      "text/plain": [
       "9.287030172925407"
      ]
     },
     "execution_count": 16,
     "metadata": {},
     "output_type": "execute_result"
    }
   ],
   "source": [
    "# cost after traing model\n",
    "cost(X, Y, theta)"
   ]
  },
  {
   "cell_type": "code",
   "execution_count": 17,
   "metadata": {},
   "outputs": [
    {
     "data": {
      "text/plain": [
       "array([[0.72065763],\n",
       "       [4.73296698]])"
      ]
     },
     "execution_count": 17,
     "metadata": {},
     "output_type": "execute_result"
    }
   ],
   "source": [
    "# value of theta after training \n",
    "theta"
   ]
  },
  {
   "cell_type": "code",
   "execution_count": 18,
   "metadata": {},
   "outputs": [
    {
     "data": {
      "image/png": "[encoded data removed]",
      "text/plain": [
       "<Figure size 432x288 with 1 Axes>"
      ]
     },
     "metadata": {
      "needs_background": "light"
     },
     "output_type": "display_data"
    }
   ],
   "source": [
    "# regression line after traing model\n",
    "draw_points_and_lines(X, Y, \"chirps/sec for the striped ground cricket\", \"temperature in degrees Fahrenheit\", theta)"
   ]
  },
  {
   "cell_type": "markdown",
   "metadata": {},
   "source": [
    "We can clearly see we have fitted line to the points. Thus we have successfully used linear regression to train a model."
   ]
  },
  {
   "cell_type": "markdown",
   "metadata": {},
   "source": [
    "### Prediction/Inference\n",
    "\n",
    "Now that we have found the appropriate line of fit through thsese points. We can also use this line to infer values on input values(chirps/sec) which are not present in the training data. "
   ]
  },
  {
   "cell_type": "code",
   "execution_count": 25,
   "metadata": {},
   "outputs": [
    {
     "name": "stdout",
     "output_type": "stream",
     "text": [
      "Predicted temprature when ground cricket chips 19 times a sec is 90.64703016147293 degrees Farenheight.\n"
     ]
    }
   ],
   "source": [
    "# Temprature when 19 chirps/sec\n",
    "x = np.array([19])\n",
    "print(f\"Predicted temprature when ground cricket chips 19 times a sec is {hypothesis(x, theta)[0]} degrees Farenheight.\")"
   ]
  },
  {
   "cell_type": "code",
   "execution_count": null,
   "metadata": {},
   "outputs": [],
   "source": []
  }
 ],
 "metadata": {
  "kernelspec": {
   "display_name": "Python 3 (ipykernel)",
   "language": "python",
   "name": "python3"
  },
  "language_info": {
   "codemirror_mode": {
    "name": "ipython",
    "version": 3
   },
   "file_extension": ".py",
   "mimetype": "text/x-python",
   "name": "python",
   "nbconvert_exporter": "python",
   "pygments_lexer": "ipython3",
   "version": "3.9.5"
  }
 },
 "nbformat": 4,
 "nbformat_minor": 2
}
